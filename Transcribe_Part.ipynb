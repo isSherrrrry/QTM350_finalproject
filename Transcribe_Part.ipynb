{
 "cells": [
  {
   "cell_type": "code",
   "execution_count": 33,
   "id": "5f84de57-71bd-4785-bffc-87db0d4e63d5",
   "metadata": {
    "tags": []
   },
   "outputs": [
    {
     "name": "stdout",
     "output_type": "stream",
     "text": [
      "Requirement already satisfied: jiwer in /opt/conda/lib/python3.7/site-packages (3.0.1)\n",
      "Requirement already satisfied: click<9.0.0,>=8.1.3 in /opt/conda/lib/python3.7/site-packages (from jiwer) (8.1.3)\n",
      "Requirement already satisfied: rapidfuzz==2.13.7 in /opt/conda/lib/python3.7/site-packages (from jiwer) (2.13.7)\n",
      "Requirement already satisfied: importlib-metadata in /opt/conda/lib/python3.7/site-packages (from click<9.0.0,>=8.1.3->jiwer) (6.0.0)\n",
      "Requirement already satisfied: zipp>=0.5 in /opt/conda/lib/python3.7/site-packages (from importlib-metadata->click<9.0.0,>=8.1.3->jiwer) (3.15.0)\n",
      "Requirement already satisfied: typing-extensions>=3.6.4 in /opt/conda/lib/python3.7/site-packages (from importlib-metadata->click<9.0.0,>=8.1.3->jiwer) (4.5.0)\n",
      "\u001b[33mWARNING: Running pip as the 'root' user can result in broken permissions and conflicting behaviour with the system package manager. It is recommended to use a virtual environment instead: https://pip.pypa.io/warnings/venv\u001b[0m\u001b[33m\n",
      "\u001b[0m\n",
      "\u001b[1m[\u001b[0m\u001b[34;49mnotice\u001b[0m\u001b[1;39;49m]\u001b[0m\u001b[39;49m A new release of pip is available: \u001b[0m\u001b[31;49m23.0.1\u001b[0m\u001b[39;49m -> \u001b[0m\u001b[32;49m23.1\u001b[0m\n",
      "\u001b[1m[\u001b[0m\u001b[34;49mnotice\u001b[0m\u001b[1;39;49m]\u001b[0m\u001b[39;49m To update, run: \u001b[0m\u001b[32;49mpip install --upgrade pip\u001b[0m\n",
      "Requirement already satisfied: pydub in /opt/conda/lib/python3.7/site-packages (0.25.1)\n",
      "\u001b[33mWARNING: Running pip as the 'root' user can result in broken permissions and conflicting behaviour with the system package manager. It is recommended to use a virtual environment instead: https://pip.pypa.io/warnings/venv\u001b[0m\u001b[33m\n",
      "\u001b[0m\n",
      "\u001b[1m[\u001b[0m\u001b[34;49mnotice\u001b[0m\u001b[1;39;49m]\u001b[0m\u001b[39;49m A new release of pip is available: \u001b[0m\u001b[31;49m23.0.1\u001b[0m\u001b[39;49m -> \u001b[0m\u001b[32;49m23.1\u001b[0m\n",
      "\u001b[1m[\u001b[0m\u001b[34;49mnotice\u001b[0m\u001b[1;39;49m]\u001b[0m\u001b[39;49m To update, run: \u001b[0m\u001b[32;49mpip install --upgrade pip\u001b[0m\n",
      "Hit:1 http://deb.debian.org/debian buster InRelease\n",
      "Hit:2 http://security.debian.org/debian-security buster/updates InRelease\n",
      "Hit:3 http://deb.debian.org/debian buster-updates InRelease\n",
      "Reading package lists... Done\n",
      "Reading package lists... Done\n",
      "Building dependency tree       \n",
      "Reading state information... Done\n",
      "ffmpeg is already the newest version (7:4.1.10-0+deb10u1).\n",
      "0 upgraded, 0 newly installed, 0 to remove and 66 not upgraded.\n"
     ]
    }
   ],
   "source": [
    "# Install the 'jiwer' package using pip (Python package installer). 'jiwer' is a library used for calculating Word Error Rate (WER) and other related metrics in speech recognition tasks.\n",
    "!pip install jiwer\n",
    "\n",
    "# Install the 'pydub' package using pip. 'pydub' is a library that allows you to manipulate audio files easily.\n",
    "!pip install pydub\n",
    "\n",
    "# Update the package lists for upgrades and package installations for the Ubuntu\n",
    "!apt-get update\n",
    "\n",
    "# Install the 'ffmpeg' package. 'ffmpeg' is a command-line tool used for converting multimedia files, like audio and video files. It's required by 'pydub' for some file format conversions.\n",
    "!apt-get install -y ffmpeg\n"
   ]
  },
  {
   "cell_type": "code",
   "execution_count": 34,
   "id": "efc0b633-f759-478d-a0bc-0837ea9cfbaf",
   "metadata": {
    "tags": []
   },
   "outputs": [
    {
     "name": "stdout",
     "output_type": "stream",
     "text": [
      "Note: AWS CLI version 2, the latest major version of the AWS CLI, is now stable and recommended for general use. For more information, see the AWS CLI version 2 installation instructions at: https://docs.aws.amazon.com/cli/latest/userguide/install-cliv2.html\n",
      "\n",
      "usage: aws [options] <command> <subcommand> [<subcommand> ...] [parameters]\n",
      "To see help text, you can run:\n",
      "\n",
      "  aws help\n",
      "  aws <command> help\n",
      "  aws <command> <subcommand> help\n",
      "aws: error: the following arguments are required: --transcription-job-name, --media\n",
      "2023-04-16 20:27:39     122154 1.m4a\n",
      "2023-04-17 03:10:51     113133 1.mp3\n",
      "2023-04-16 20:27:37      67355 10.m4a\n",
      "2023-04-16 21:18:57      61485 10.mp3\n",
      "2023-04-16 20:27:37      79172 11.m4a\n",
      "2023-04-16 21:18:58      73389 11.mp3\n",
      "2023-04-16 20:27:38      98437 12.m4a\n",
      "2023-04-16 21:18:58      89901 12.mp3\n",
      "2023-04-16 20:27:38      93029 13.m4a\n",
      "2023-04-16 21:18:59      84909 13.mp3\n",
      "2023-04-16 20:27:39     115640 14.m4a\n",
      "2023-04-16 21:19:00     106797 14.mp3\n",
      "2023-04-16 20:27:39      78655 15.m4a\n",
      "2023-04-16 21:19:01      71085 15.mp3\n",
      "2023-04-16 20:27:39      96745 2.m4a\n",
      "2023-04-16 21:19:02      91437 2.mp3\n",
      "2023-04-16 20:27:40     103714 3.m4a\n",
      "2023-04-16 21:19:02      97773 3.mp3\n",
      "2023-04-16 20:27:41     105909 4.m4a\n",
      "2023-04-16 21:19:03      97773 4.mp3\n",
      "2023-04-16 20:27:41      85590 5.m4a\n",
      "2023-04-16 21:19:04      76845 5.mp3\n",
      "2023-04-16 20:27:40      52323 6.m4a\n",
      "2023-04-16 21:19:04      47661 6.mp3\n",
      "2023-04-16 20:27:40      78459 7.m4a\n",
      "2023-04-16 21:19:05      71853 7.mp3\n",
      "2023-04-16 20:27:36      45301 8.m4a\n",
      "2023-04-16 21:19:06      40941 8.mp3\n",
      "2023-04-16 20:27:37      60720 9.m4a\n",
      "2023-04-16 21:19:06      55725 9.mp3\n"
     ]
    }
   ],
   "source": [
    "# Start a transcription job using Amazon Transcribe. \n",
    "!aws transcribe start-transcription-job \\\n",
    "\n",
    "# List all objects in the \"audio files\" folder within the 'qtm350finalbucket' S3 bucket. \n",
    "!aws s3 ls s3://qtm350finalbucket/audio\\ files/\n"
   ]
  },
  {
   "cell_type": "code",
   "execution_count": 21,
   "id": "edb0cd3b-c439-4039-a042-32b3636d37a8",
   "metadata": {
    "tags": []
   },
   "outputs": [
    {
     "ename": "ConflictException",
     "evalue": "An error occurred (ConflictException) when calling the StartTranscriptionJob operation: The requested job name already exists. Use a different job name.",
     "output_type": "error",
     "traceback": [
      "\u001b[0;31m---------------------------------------------------------------------------\u001b[0m",
      "\u001b[0;31mConflictException\u001b[0m                         Traceback (most recent call last)",
      "\u001b[0;32m<ipython-input-21-042b63067eee>\u001b[0m in \u001b[0;36m<module>\u001b[0;34m\u001b[0m\n\u001b[1;32m     42\u001b[0m         \u001b[0mMediaFormat\u001b[0m\u001b[0;34m=\u001b[0m\u001b[0;34m'mp3'\u001b[0m\u001b[0;34m,\u001b[0m\u001b[0;34m\u001b[0m\u001b[0;34m\u001b[0m\u001b[0m\n\u001b[1;32m     43\u001b[0m         \u001b[0mMedia\u001b[0m\u001b[0;34m=\u001b[0m\u001b[0;34m{\u001b[0m\u001b[0;34m'MediaFileUri'\u001b[0m\u001b[0;34m:\u001b[0m \u001b[0mmp3_file_uri\u001b[0m\u001b[0;34m}\u001b[0m\u001b[0;34m,\u001b[0m\u001b[0;34m\u001b[0m\u001b[0;34m\u001b[0m\u001b[0m\n\u001b[0;32m---> 44\u001b[0;31m         \u001b[0mOutputBucketName\u001b[0m\u001b[0;34m=\u001b[0m\u001b[0mbucket_name\u001b[0m\u001b[0;34m\u001b[0m\u001b[0;34m\u001b[0m\u001b[0m\n\u001b[0m\u001b[1;32m     45\u001b[0m     )\n\u001b[1;32m     46\u001b[0m \u001b[0;34m\u001b[0m\u001b[0m\n",
      "\u001b[0;32m/opt/conda/lib/python3.7/site-packages/botocore/client.py\u001b[0m in \u001b[0;36m_api_call\u001b[0;34m(self, *args, **kwargs)\u001b[0m\n\u001b[1;32m    528\u001b[0m                 )\n\u001b[1;32m    529\u001b[0m             \u001b[0;31m# The \"self\" in this scope is referring to the BaseClient.\u001b[0m\u001b[0;34m\u001b[0m\u001b[0;34m\u001b[0m\u001b[0;34m\u001b[0m\u001b[0m\n\u001b[0;32m--> 530\u001b[0;31m             \u001b[0;32mreturn\u001b[0m \u001b[0mself\u001b[0m\u001b[0;34m.\u001b[0m\u001b[0m_make_api_call\u001b[0m\u001b[0;34m(\u001b[0m\u001b[0moperation_name\u001b[0m\u001b[0;34m,\u001b[0m \u001b[0mkwargs\u001b[0m\u001b[0;34m)\u001b[0m\u001b[0;34m\u001b[0m\u001b[0;34m\u001b[0m\u001b[0m\n\u001b[0m\u001b[1;32m    531\u001b[0m \u001b[0;34m\u001b[0m\u001b[0m\n\u001b[1;32m    532\u001b[0m         \u001b[0m_api_call\u001b[0m\u001b[0;34m.\u001b[0m\u001b[0m__name__\u001b[0m \u001b[0;34m=\u001b[0m \u001b[0mstr\u001b[0m\u001b[0;34m(\u001b[0m\u001b[0mpy_operation_name\u001b[0m\u001b[0;34m)\u001b[0m\u001b[0;34m\u001b[0m\u001b[0;34m\u001b[0m\u001b[0m\n",
      "\u001b[0;32m/opt/conda/lib/python3.7/site-packages/botocore/client.py\u001b[0m in \u001b[0;36m_make_api_call\u001b[0;34m(self, operation_name, api_params)\u001b[0m\n\u001b[1;32m    958\u001b[0m             \u001b[0merror_code\u001b[0m \u001b[0;34m=\u001b[0m \u001b[0mparsed_response\u001b[0m\u001b[0;34m.\u001b[0m\u001b[0mget\u001b[0m\u001b[0;34m(\u001b[0m\u001b[0;34m\"Error\"\u001b[0m\u001b[0;34m,\u001b[0m \u001b[0;34m{\u001b[0m\u001b[0;34m}\u001b[0m\u001b[0;34m)\u001b[0m\u001b[0;34m.\u001b[0m\u001b[0mget\u001b[0m\u001b[0;34m(\u001b[0m\u001b[0;34m\"Code\"\u001b[0m\u001b[0;34m)\u001b[0m\u001b[0;34m\u001b[0m\u001b[0;34m\u001b[0m\u001b[0m\n\u001b[1;32m    959\u001b[0m             \u001b[0merror_class\u001b[0m \u001b[0;34m=\u001b[0m \u001b[0mself\u001b[0m\u001b[0;34m.\u001b[0m\u001b[0mexceptions\u001b[0m\u001b[0;34m.\u001b[0m\u001b[0mfrom_code\u001b[0m\u001b[0;34m(\u001b[0m\u001b[0merror_code\u001b[0m\u001b[0;34m)\u001b[0m\u001b[0;34m\u001b[0m\u001b[0;34m\u001b[0m\u001b[0m\n\u001b[0;32m--> 960\u001b[0;31m             \u001b[0;32mraise\u001b[0m \u001b[0merror_class\u001b[0m\u001b[0;34m(\u001b[0m\u001b[0mparsed_response\u001b[0m\u001b[0;34m,\u001b[0m \u001b[0moperation_name\u001b[0m\u001b[0;34m)\u001b[0m\u001b[0;34m\u001b[0m\u001b[0;34m\u001b[0m\u001b[0m\n\u001b[0m\u001b[1;32m    961\u001b[0m         \u001b[0;32melse\u001b[0m\u001b[0;34m:\u001b[0m\u001b[0;34m\u001b[0m\u001b[0;34m\u001b[0m\u001b[0m\n\u001b[1;32m    962\u001b[0m             \u001b[0;32mreturn\u001b[0m \u001b[0mparsed_response\u001b[0m\u001b[0;34m\u001b[0m\u001b[0;34m\u001b[0m\u001b[0m\n",
      "\u001b[0;31mConflictException\u001b[0m: An error occurred (ConflictException) when calling the StartTranscriptionJob operation: The requested job name already exists. Use a different job name."
     ]
    }
   ],
   "source": [
    "import boto3  # Import the boto3 library to interact with AWS services\n",
    "import os  # Import the os library to work with the file system\n",
    "from pydub import AudioSegment  # Import the AudioSegment class from pydub to convert audio files\n",
    "\n",
    "# Create a boto3 S3 client to interact with Amazon S3\n",
    "s3 = boto3.client('s3', region_name='us-east-1')\n",
    "\n",
    "# Create a boto3 Transcribe client to interact with Amazon Transcribe\n",
    "transcribe = boto3.client('transcribe', region_name='us-east-1')\n",
    "\n",
    "# Specify the name of the S3 bucket and the folder containing the audio files\n",
    "bucket_name = 'qtm350finalbucket'\n",
    "folder_name = 'audio files/'\n",
    "\n",
    "# List all objects in the specified folder within the S3 bucket\n",
    "response = s3.list_objects_v2(Bucket=bucket_name, Prefix=folder_name)\n",
    "\n",
    "# Extract the file names from the response and store them in a list\n",
    "audio_files = [item['Key'] for item in response['Contents']]\n",
    "\n",
    "# Iterate over each audio file to download, convert, and upload it\n",
    "for file_name in audio_files:\n",
    "    \n",
    "    # Create the URIs and local file names for the original and converted files\n",
    "    file_uri = f\"s3://{bucket_name}/{file_name}\" # set the URL \n",
    "    local_m4a_file = os.path.basename(file_name) # filename\n",
    "    local_mp3_file = local_m4a_file.replace('.m4a', '.mp3') # change the format\n",
    "    mp3_file_name = file_name.replace('.m4a', '.mp3') # output filename\n",
    "    mp3_file_uri = f\"s3://{bucket_name}/{mp3_file_name}\" # set the url for output file \n",
    "\n",
    "    # Download the m4a file from the S3 bucket to the local file system\n",
    "    s3.download_file(bucket_name, file_name, local_m4a_file)\n",
    "\n",
    "    # Convert the downloaded m4a file to an mp3 file using pydub\n",
    "    audio = AudioSegment.from_file(local_m4a_file, format=\"m4a\")\n",
    "    audio.export(local_mp3_file, format=\"mp3\") # export the file \n",
    "\n",
    "    # Upload the converted mp3 file back to the S3 bucket\n",
    "    s3.upload_file(local_mp3_file, bucket_name, mp3_file_name)\n",
    "\n",
    "    # Create a unique name for the transcription job\n",
    "    job_name = f\"transcribe-job-{os.path.basename(mp3_file_name)}\"\n",
    "\n",
    "    # Start the transcription job for the mp3 file using Amazon Transcribe\n",
    "    transcribe.start_transcription_job(\n",
    "        TranscriptionJobName=job_name,\n",
    "        LanguageCode='en-US', # specify that we use english\n",
    "        MediaFormat='mp3', # in mp3 format \n",
    "        Media={'MediaFileUri': mp3_file_uri}, # audio file links\n",
    "        OutputBucketName=bucket_name # bucket name \n",
    "    )\n",
    "\n",
    "    # Print a message indicating the transcription job has started\n",
    "    print(f\"Started transcription job for {mp3_file_name}\")\n",
    "\n",
    "    # Remove the local m4a and mp3 files to free up space\n",
    "    os.remove(local_m4a_file)\n",
    "    os.remove(local_mp3_file)\n"
   ]
  },
  {
   "cell_type": "code",
   "execution_count": 35,
   "id": "131ee936-016f-455c-86bd-85f052bfc4c1",
   "metadata": {
    "tags": []
   },
   "outputs": [
    {
     "name": "stdout",
     "output_type": "stream",
     "text": [
      "Transcription for transcribe-job-1.mp3:\n",
      "Hi. So I'm having trouble accessing my AT&T account online whenever I try to log in. It says my user name or password is incorrect. Can you help me to reset my password?\n",
      "\n",
      "Transcription for transcribe-job-10.mp3:\n",
      "Uh So I'm moving to a different state and won't be needing your service anymore. I need help to close my account.\n",
      "\n",
      "Transcription for transcribe-job-11.mp3:\n",
      "I just ordered a device from AT&T but I haven't received any updates on the delivery status. Can you give me an update real quick?\n",
      "\n",
      "Transcription for transcribe-job-12.mp3:\n",
      "Hi. Um I want to upgrade my phone to the newest iphone. 14 was 256 gigabytes. Uh, the version gold. Uh is it possible for me to purchase it through the installment plan?\n",
      "\n",
      "Transcription for transcribe-job-13.mp3:\n",
      "I'm a bit concerned about cyber attacks and the security of my personal information. I'm wondering what measures AT&T are taking right now to protect customers.\n",
      "\n",
      "Transcription for transcribe-job-14.mp3:\n",
      "Hello. I'm interested in signing up for the Loyal program. Can you tell me more about it? Like, what kind of benefit and discounts are, are available through this program?\n",
      "\n",
      "Transcription for transcribe-job-15.mp3:\n",
      "Ok. So my phone is cracked and I need to get a repair like right now, um, can you schedule an appointment today for me at the nearest repair center?\n",
      "\n",
      "Transcription for transcribe-job-2.mp3:\n",
      "Hi. I have an issue with my internet connection. It's been down for the past hour and, like, I really can't believe the service you're providing me is so useless.\n",
      "\n",
      "Transcription for transcribe-job-3.mp3:\n",
      "I've been having trouble with my internet service. Um, it's been going on for two days now. Uh, is it an outage in my area? I've tried resetting my modem and router several times already.\n",
      "\n",
      "Transcription for transcribe-job-4.mp3:\n",
      "Hello. I have some questions about my bill. I noticed that my bill is higher than usual this month. Can you explain why? I'm pretty sure I didn't use that much of data this month.\n",
      "\n",
      "Transcription for transcribe-job-5.mp3:\n",
      "Hello. Um, I'd like to upgrade my plan to include more data. I'm currently on a basic plan. What are the available plans right now?\n",
      "\n",
      "Transcription for transcribe-job-6.mp3:\n",
      "Hello. I'd like to add a new line to my account for my sister. Can you help me with that?\n",
      "\n",
      "Transcription for transcribe-job-7.mp3:\n",
      "Hello. I'm traveling to Europe next week and I'd like to use my phone there. What are my options for international roaming?\n",
      "\n",
      "Transcription for transcribe-job-8.mp3:\n",
      "Hi, I recently moved and I need to update my billing address. Thank you.\n",
      "\n",
      "Transcription for transcribe-job-9.mp3:\n",
      "Hello. I'm interested in switching to AT&T. So what are the promotions that are currently available?\n",
      "\n"
     ]
    }
   ],
   "source": [
    "# Define a function to create a transcription job name based on the file name\n",
    "def get_transcription_job_name(file_name):\n",
    "    return f\"transcribe-job-{os.path.basename(file_name.replace('.m4a', '.mp3'))}\"\n",
    "\n",
    "# Define a function to create a JSON file key based on the job name\n",
    "def get_transcription_json_key(job_name):\n",
    "    return f\"{job_name}.json\"\n",
    "\n",
    "# Create a dictionary to store the transcriptions\n",
    "transcriptions = {}\n",
    "\n",
    "# Iterate over each audio file to fetch the corresponding transcription\n",
    "for file_name in audio_files:\n",
    "    # Get the transcription job name for the audio file\n",
    "    job_name = get_transcription_job_name(file_name)\n",
    "    # Get the JSON file key for the transcription job\n",
    "    json_file_key = get_transcription_json_key(job_name)\n",
    "    # Retrieve the transcription text from the JSON file and store it in the dictionary\n",
    "    transcriptions[job_name] = get_transcription_text(bucket_name, json_file_key)\n",
    "\n",
    "# Iterate over the transcriptions dictionary to print the transcriptions\n",
    "for job_name, transcription in transcriptions.items():\n",
    "    # Print the transcription job name\n",
    "    print(f\"Transcription for {job_name}:\")\n",
    "    # Print the transcription text\n",
    "    print(transcription)\n",
    "    # Print an empty line for better readability\n",
    "    print()\n"
   ]
  },
  {
   "cell_type": "markdown",
   "id": "d5412f92-a349-4d11-a424-5029565524d7",
   "metadata": {
    "tags": []
   },
   "source": [
    "For evluation, we used Word Error Rate (WER). WER is a measure of the similarity between the transcribed text and the actual reference text. It considers the number of substitutions, insertions, and deletions needed to make the transcribed text match the reference text. The formula for WER is:\n",
    "\n",
    "WER = (S + D + I) / N\n",
    "\n",
    "where:\n",
    "\n",
    "S is the number of substitutions\n",
    "D is the number of deletions\n",
    "I is the number of insertions\n",
    "N is the number of words in the reference text"
   ]
  },
  {
   "cell_type": "code",
   "execution_count": 29,
   "id": "711694ae-f56d-4c28-9b3b-a252cdddea5e",
   "metadata": {},
   "outputs": [
    {
     "name": "stdout",
     "output_type": "stream",
     "text": [
      "WER for transcribe-job-1.mp3: 0.29\n",
      "WER for transcribe-job-10.mp3: 0.19\n",
      "WER for transcribe-job-11.mp3: 0.04\n",
      "WER for transcribe-job-12.mp3: 0.46\n",
      "WER for transcribe-job-13.mp3: 0.16\n",
      "WER for transcribe-job-14.mp3: 0.39\n",
      "WER for transcribe-job-15.mp3: 0.44\n",
      "WER for transcribe-job-2.mp3: 0.22\n",
      "WER for transcribe-job-3.mp3: 0.15\n",
      "WER for transcribe-job-4.mp3: 0.11\n",
      "WER for transcribe-job-5.mp3: 0.12\n",
      "WER for transcribe-job-6.mp3: 0.05\n",
      "WER for transcribe-job-7.mp3: 0.05\n",
      "WER for transcribe-job-8.mp3: 0.00\n",
      "WER for transcribe-job-9.mp3: 0.27\n",
      "Average Word Error Rate: 0.10\n"
     ]
    }
   ],
   "source": [
    "# List of reference texts for each audio transcription\n",
    "reference_texts = [\n",
    "    \"Hi, I'm having trouble accessing my AT&T account online. Whenever I try to log in, it says my username or password is incorrect. Can you help me to reset my password. \",\n",
    "    \"I am moving to a different state and won't be needing your services anymore. I need help to close my account. \",\n",
    "    \"I just ordered a device from ATT but I haven't received any updates on the delivery status. Can you give me an update real quick? \",\n",
    "    \"I want to upgrade my phone to the newest iPhone 14 with 256GB version in gold. Is it possible for me to purchase it through the Installment Plan?\",\n",
    "    \"I’m a bit concerned about cyberattacks and the security of my personal information. I’m wondering what measures AT&T are taking right now to protect customers. \",\n",
    "    \"I’m interested in signing up for the loyalty program, can you tell me more about it, like what kinds of benefits and discounts are available through this program.\",\n",
    "    \"My phone is cracked and I need to get it repaired like right now. Can you schedule an appointment today at the nearest repair center.\",\n",
    "    \"Hi, I have an issue with my internet connection. It's been down for the past hour. I can't believe the service you're providing me is so useless!\",\n",
    "    \"I've been having trouble with my internet service. It's been going on for two days now. Is there an outage in my area? I've tried resetting my modem and router several times already.\",\n",
    "    \"Hello, I have some questions about my bill. I noticed that my bill is higher than usual this month. Can you explain why? I’m pretty sure I didn’t use that much of data this month!\",\n",
    "    \"Hi, I'd like to upgrade my plan to include more data. I'm currently on the basic plan. What are the available plans right now?\",\n",
    "    \"Hi, I'd like to add a new line to my account for my sister. Can you help me with that?\",\n",
    "    \"Hello, I'm traveling to Europe next week and I'd like to use my phone there. What are my options for international roaming?\",\n",
    "    \"Hi, I recently moved and I need to update my billing address. Thank you. \",\n",
    "    \"Hello, I'm interested in switching to ATT. What are the promotions that are currently available?\"\n",
    "]\n",
    "\n",
    "# Import the jiwer library for computing Word Error Rate\n",
    "import jiwer\n",
    "\n",
    "# Define a function to calculate the Word Error Rate (WER) between the reference and hypothesis texts\n",
    "def calculate_wer(reference, hypothesis):\n",
    "    wer = jiwer.wer(reference, hypothesis) # use the package \n",
    "    return wer\n",
    "\n",
    "# Initialize the total WER to 0\n",
    "total_wer = 0\n",
    "# Get the number of audio files\n",
    "num_files = len(audio_files)\n",
    "\n",
    "# Iterate over each transcription item (index and transcription)\n",
    "for i, (job_name, transcription) in enumerate(transcriptions.items()):\n",
    "    # Calculate the WER for the current transcription and reference text\n",
    "    wer = calculate_wer(reference_texts[i], transcription)\n",
    "    # Add the WER to the total WER\n",
    "    total_wer += wer\n",
    "    # Print the WER for the current transcription\n",
    "    print(f\"WER for {job_name}: {wer:.2f}\")\n",
    "\n",
    "# Calculate the average WER by dividing the total WER by the number of audio files\n",
    "average_wer = total_wer / num_files\n",
    "# Print the average WER\n",
    "print(f\"Average Word Error Rate: {average_wer:.2f}\")\n"
   ]
  },
  {
   "cell_type": "markdown",
   "id": "5353630a-0181-4c32-b7d3-d6d55d6e5a1f",
   "metadata": {},
   "source": [
    "The WER ranges from 0 to 1 (or 0% to 100%). A lower WER indicates better performance, with 0 (0%) meaning a perfect transcription. Overall, we have a WER rate of 0.10, which means that the document transcribed is 90% correct. We believe that it indicates that the Amazon transcribe works perfectly. "
   ]
  },
  {
   "cell_type": "code",
   "execution_count": null,
   "id": "64c63828-95a4-460f-b8e7-c28d773cca44",
   "metadata": {},
   "outputs": [],
   "source": []
  }
 ],
 "metadata": {
  "availableInstances": [
   {
    "_defaultOrder": 0,
    "_isFastLaunch": true,
    "category": "General purpose",
    "gpuNum": 0,
    "memoryGiB": 4,
    "name": "ml.t3.medium",
    "vcpuNum": 2
   },
   {
    "_defaultOrder": 1,
    "_isFastLaunch": false,
    "category": "General purpose",
    "gpuNum": 0,
    "memoryGiB": 8,
    "name": "ml.t3.large",
    "vcpuNum": 2
   },
   {
    "_defaultOrder": 2,
    "_isFastLaunch": false,
    "category": "General purpose",
    "gpuNum": 0,
    "memoryGiB": 16,
    "name": "ml.t3.xlarge",
    "vcpuNum": 4
   },
   {
    "_defaultOrder": 3,
    "_isFastLaunch": false,
    "category": "General purpose",
    "gpuNum": 0,
    "memoryGiB": 32,
    "name": "ml.t3.2xlarge",
    "vcpuNum": 8
   },
   {
    "_defaultOrder": 4,
    "_isFastLaunch": true,
    "category": "General purpose",
    "gpuNum": 0,
    "memoryGiB": 8,
    "name": "ml.m5.large",
    "vcpuNum": 2
   },
   {
    "_defaultOrder": 5,
    "_isFastLaunch": false,
    "category": "General purpose",
    "gpuNum": 0,
    "memoryGiB": 16,
    "name": "ml.m5.xlarge",
    "vcpuNum": 4
   },
   {
    "_defaultOrder": 6,
    "_isFastLaunch": false,
    "category": "General purpose",
    "gpuNum": 0,
    "memoryGiB": 32,
    "name": "ml.m5.2xlarge",
    "vcpuNum": 8
   },
   {
    "_defaultOrder": 7,
    "_isFastLaunch": false,
    "category": "General purpose",
    "gpuNum": 0,
    "memoryGiB": 64,
    "name": "ml.m5.4xlarge",
    "vcpuNum": 16
   },
   {
    "_defaultOrder": 8,
    "_isFastLaunch": false,
    "category": "General purpose",
    "gpuNum": 0,
    "memoryGiB": 128,
    "name": "ml.m5.8xlarge",
    "vcpuNum": 32
   },
   {
    "_defaultOrder": 9,
    "_isFastLaunch": false,
    "category": "General purpose",
    "gpuNum": 0,
    "memoryGiB": 192,
    "name": "ml.m5.12xlarge",
    "vcpuNum": 48
   },
   {
    "_defaultOrder": 10,
    "_isFastLaunch": false,
    "category": "General purpose",
    "gpuNum": 0,
    "memoryGiB": 256,
    "name": "ml.m5.16xlarge",
    "vcpuNum": 64
   },
   {
    "_defaultOrder": 11,
    "_isFastLaunch": false,
    "category": "General purpose",
    "gpuNum": 0,
    "memoryGiB": 384,
    "name": "ml.m5.24xlarge",
    "vcpuNum": 96
   },
   {
    "_defaultOrder": 12,
    "_isFastLaunch": false,
    "category": "General purpose",
    "gpuNum": 0,
    "memoryGiB": 8,
    "name": "ml.m5d.large",
    "vcpuNum": 2
   },
   {
    "_defaultOrder": 13,
    "_isFastLaunch": false,
    "category": "General purpose",
    "gpuNum": 0,
    "memoryGiB": 16,
    "name": "ml.m5d.xlarge",
    "vcpuNum": 4
   },
   {
    "_defaultOrder": 14,
    "_isFastLaunch": false,
    "category": "General purpose",
    "gpuNum": 0,
    "memoryGiB": 32,
    "name": "ml.m5d.2xlarge",
    "vcpuNum": 8
   },
   {
    "_defaultOrder": 15,
    "_isFastLaunch": false,
    "category": "General purpose",
    "gpuNum": 0,
    "memoryGiB": 64,
    "name": "ml.m5d.4xlarge",
    "vcpuNum": 16
   },
   {
    "_defaultOrder": 16,
    "_isFastLaunch": false,
    "category": "General purpose",
    "gpuNum": 0,
    "memoryGiB": 128,
    "name": "ml.m5d.8xlarge",
    "vcpuNum": 32
   },
   {
    "_defaultOrder": 17,
    "_isFastLaunch": false,
    "category": "General purpose",
    "gpuNum": 0,
    "memoryGiB": 192,
    "name": "ml.m5d.12xlarge",
    "vcpuNum": 48
   },
   {
    "_defaultOrder": 18,
    "_isFastLaunch": false,
    "category": "General purpose",
    "gpuNum": 0,
    "memoryGiB": 256,
    "name": "ml.m5d.16xlarge",
    "vcpuNum": 64
   },
   {
    "_defaultOrder": 19,
    "_isFastLaunch": false,
    "category": "General purpose",
    "gpuNum": 0,
    "memoryGiB": 384,
    "name": "ml.m5d.24xlarge",
    "vcpuNum": 96
   },
   {
    "_defaultOrder": 20,
    "_isFastLaunch": true,
    "category": "Compute optimized",
    "gpuNum": 0,
    "memoryGiB": 4,
    "name": "ml.c5.large",
    "vcpuNum": 2
   },
   {
    "_defaultOrder": 21,
    "_isFastLaunch": false,
    "category": "Compute optimized",
    "gpuNum": 0,
    "memoryGiB": 8,
    "name": "ml.c5.xlarge",
    "vcpuNum": 4
   },
   {
    "_defaultOrder": 22,
    "_isFastLaunch": false,
    "category": "Compute optimized",
    "gpuNum": 0,
    "memoryGiB": 16,
    "name": "ml.c5.2xlarge",
    "vcpuNum": 8
   },
   {
    "_defaultOrder": 23,
    "_isFastLaunch": false,
    "category": "Compute optimized",
    "gpuNum": 0,
    "memoryGiB": 32,
    "name": "ml.c5.4xlarge",
    "vcpuNum": 16
   },
   {
    "_defaultOrder": 24,
    "_isFastLaunch": false,
    "category": "Compute optimized",
    "gpuNum": 0,
    "memoryGiB": 72,
    "name": "ml.c5.9xlarge",
    "vcpuNum": 36
   },
   {
    "_defaultOrder": 25,
    "_isFastLaunch": false,
    "category": "Compute optimized",
    "gpuNum": 0,
    "memoryGiB": 96,
    "name": "ml.c5.12xlarge",
    "vcpuNum": 48
   },
   {
    "_defaultOrder": 26,
    "_isFastLaunch": false,
    "category": "Compute optimized",
    "gpuNum": 0,
    "memoryGiB": 144,
    "name": "ml.c5.18xlarge",
    "vcpuNum": 72
   },
   {
    "_defaultOrder": 27,
    "_isFastLaunch": false,
    "category": "Compute optimized",
    "gpuNum": 0,
    "memoryGiB": 192,
    "name": "ml.c5.24xlarge",
    "vcpuNum": 96
   },
   {
    "_defaultOrder": 28,
    "_isFastLaunch": true,
    "category": "Accelerated computing",
    "gpuNum": 1,
    "memoryGiB": 16,
    "name": "ml.g4dn.xlarge",
    "vcpuNum": 4
   },
   {
    "_defaultOrder": 29,
    "_isFastLaunch": false,
    "category": "Accelerated computing",
    "gpuNum": 1,
    "memoryGiB": 32,
    "name": "ml.g4dn.2xlarge",
    "vcpuNum": 8
   },
   {
    "_defaultOrder": 30,
    "_isFastLaunch": false,
    "category": "Accelerated computing",
    "gpuNum": 1,
    "memoryGiB": 64,
    "name": "ml.g4dn.4xlarge",
    "vcpuNum": 16
   },
   {
    "_defaultOrder": 31,
    "_isFastLaunch": false,
    "category": "Accelerated computing",
    "gpuNum": 1,
    "memoryGiB": 128,
    "name": "ml.g4dn.8xlarge",
    "vcpuNum": 32
   },
   {
    "_defaultOrder": 32,
    "_isFastLaunch": false,
    "category": "Accelerated computing",
    "gpuNum": 4,
    "memoryGiB": 192,
    "name": "ml.g4dn.12xlarge",
    "vcpuNum": 48
   },
   {
    "_defaultOrder": 33,
    "_isFastLaunch": false,
    "category": "Accelerated computing",
    "gpuNum": 1,
    "memoryGiB": 256,
    "name": "ml.g4dn.16xlarge",
    "vcpuNum": 64
   },
   {
    "_defaultOrder": 34,
    "_isFastLaunch": false,
    "category": "Accelerated computing",
    "gpuNum": 1,
    "memoryGiB": 61,
    "name": "ml.p3.2xlarge",
    "vcpuNum": 8
   },
   {
    "_defaultOrder": 35,
    "_isFastLaunch": false,
    "category": "Accelerated computing",
    "gpuNum": 4,
    "memoryGiB": 244,
    "name": "ml.p3.8xlarge",
    "vcpuNum": 32
   },
   {
    "_defaultOrder": 36,
    "_isFastLaunch": false,
    "category": "Accelerated computing",
    "gpuNum": 8,
    "memoryGiB": 488,
    "name": "ml.p3.16xlarge",
    "vcpuNum": 64
   },
   {
    "_defaultOrder": 37,
    "_isFastLaunch": false,
    "category": "Accelerated computing",
    "gpuNum": 8,
    "memoryGiB": 768,
    "name": "ml.p3dn.24xlarge",
    "vcpuNum": 96
   },
   {
    "_defaultOrder": 38,
    "_isFastLaunch": false,
    "category": "Memory Optimized",
    "gpuNum": 0,
    "memoryGiB": 16,
    "name": "ml.r5.large",
    "vcpuNum": 2
   },
   {
    "_defaultOrder": 39,
    "_isFastLaunch": false,
    "category": "Memory Optimized",
    "gpuNum": 0,
    "memoryGiB": 32,
    "name": "ml.r5.xlarge",
    "vcpuNum": 4
   },
   {
    "_defaultOrder": 40,
    "_isFastLaunch": false,
    "category": "Memory Optimized",
    "gpuNum": 0,
    "memoryGiB": 64,
    "name": "ml.r5.2xlarge",
    "vcpuNum": 8
   },
   {
    "_defaultOrder": 41,
    "_isFastLaunch": false,
    "category": "Memory Optimized",
    "gpuNum": 0,
    "memoryGiB": 128,
    "name": "ml.r5.4xlarge",
    "vcpuNum": 16
   },
   {
    "_defaultOrder": 42,
    "_isFastLaunch": false,
    "category": "Memory Optimized",
    "gpuNum": 0,
    "memoryGiB": 256,
    "name": "ml.r5.8xlarge",
    "vcpuNum": 32
   },
   {
    "_defaultOrder": 43,
    "_isFastLaunch": false,
    "category": "Memory Optimized",
    "gpuNum": 0,
    "memoryGiB": 384,
    "name": "ml.r5.12xlarge",
    "vcpuNum": 48
   },
   {
    "_defaultOrder": 44,
    "_isFastLaunch": false,
    "category": "Memory Optimized",
    "gpuNum": 0,
    "memoryGiB": 512,
    "name": "ml.r5.16xlarge",
    "vcpuNum": 64
   },
   {
    "_defaultOrder": 45,
    "_isFastLaunch": false,
    "category": "Memory Optimized",
    "gpuNum": 0,
    "memoryGiB": 768,
    "name": "ml.r5.24xlarge",
    "vcpuNum": 96
   },
   {
    "_defaultOrder": 46,
    "_isFastLaunch": false,
    "category": "Accelerated computing",
    "gpuNum": 1,
    "memoryGiB": 16,
    "name": "ml.g5.xlarge",
    "vcpuNum": 4
   },
   {
    "_defaultOrder": 47,
    "_isFastLaunch": false,
    "category": "Accelerated computing",
    "gpuNum": 1,
    "memoryGiB": 32,
    "name": "ml.g5.2xlarge",
    "vcpuNum": 8
   },
   {
    "_defaultOrder": 48,
    "_isFastLaunch": false,
    "category": "Accelerated computing",
    "gpuNum": 1,
    "memoryGiB": 64,
    "name": "ml.g5.4xlarge",
    "vcpuNum": 16
   },
   {
    "_defaultOrder": 49,
    "_isFastLaunch": false,
    "category": "Accelerated computing",
    "gpuNum": 1,
    "memoryGiB": 128,
    "name": "ml.g5.8xlarge",
    "vcpuNum": 32
   },
   {
    "_defaultOrder": 50,
    "_isFastLaunch": false,
    "category": "Accelerated computing",
    "gpuNum": 1,
    "memoryGiB": 256,
    "name": "ml.g5.16xlarge",
    "vcpuNum": 64
   },
   {
    "_defaultOrder": 51,
    "_isFastLaunch": false,
    "category": "Accelerated computing",
    "gpuNum": 4,
    "memoryGiB": 192,
    "name": "ml.g5.12xlarge",
    "vcpuNum": 48
   },
   {
    "_defaultOrder": 52,
    "_isFastLaunch": false,
    "category": "Accelerated computing",
    "gpuNum": 4,
    "memoryGiB": 384,
    "name": "ml.g5.24xlarge",
    "vcpuNum": 96
   },
   {
    "_defaultOrder": 53,
    "_isFastLaunch": false,
    "category": "Accelerated computing",
    "gpuNum": 8,
    "memoryGiB": 768,
    "name": "ml.g5.48xlarge",
    "vcpuNum": 192
   }
  ],
  "instance_type": "ml.t3.medium",
  "kernelspec": {
   "display_name": "Python 3 (Data Science)",
   "language": "python",
   "name": "python3__SAGEMAKER_INTERNAL__arn:aws:sagemaker:us-east-1:081325390199:image/datascience-1.0"
  },
  "language_info": {
   "codemirror_mode": {
    "name": "ipython",
    "version": 3
   },
   "file_extension": ".py",
   "mimetype": "text/x-python",
   "name": "python",
   "nbconvert_exporter": "python",
   "pygments_lexer": "ipython3",
   "version": "3.7.10"
  }
 },
 "nbformat": 4,
 "nbformat_minor": 5
}
